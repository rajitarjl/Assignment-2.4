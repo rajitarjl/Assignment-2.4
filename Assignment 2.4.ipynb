{
 "cells": [
  {
   "cell_type": "markdown",
   "metadata": {},
   "source": [
    "Assignment 2.4 : Write a Python Program to print the given string in the format specified in the sample\n",
    "output."
   ]
  },
  {
   "cell_type": "code",
   "execution_count": 2,
   "metadata": {},
   "outputs": [
    {
     "name": "stdout",
     "output_type": "stream",
     "text": [
      "WE, THE PEOPLE OF INDIA,\n",
      "      having solemnly resolved to constitute India into a SOVEREIGN,!\n",
      "            SOCIALIST, SECULAR, DEMOCRATIC REPUBLIC\n",
      "             and to secure to all its citizens:\n"
     ]
    }
   ],
   "source": [
    "str1=\"WE, THE PEOPLE OF INDIA,\"\n",
    "str2=\"having solemnly resolved to constitute India into a SOVEREIGN,!\"\n",
    "str3=\"SOCIALIST, SECULAR, DEMOCRATIC REPUBLIC\"\n",
    "str4=\"and to secure to all its citizens:\"\n",
    "n=6\n",
    "spacing=\" \"*n\n",
    "doub_spacing=spacing*2\n",
    "fin_str=str1+\"\\n\"+spacing+str2+\"\\n\"+spacing*2+str3+\"\\n\"+spacing*2+\" \"+str4\n",
    "print(fin_str)"
   ]
  }
 ],
 "metadata": {
  "kernelspec": {
   "display_name": "Python 3",
   "language": "python",
   "name": "python3"
  },
  "language_info": {
   "codemirror_mode": {
    "name": "ipython",
    "version": 3
   },
   "file_extension": ".py",
   "mimetype": "text/x-python",
   "name": "python",
   "nbconvert_exporter": "python",
   "pygments_lexer": "ipython3",
   "version": "3.6.5"
  }
 },
 "nbformat": 4,
 "nbformat_minor": 2
}
